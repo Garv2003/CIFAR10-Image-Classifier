{
  "cells": [
    {
      "cell_type": "code",
      "execution_count": null,
      "metadata": {
        "id": "-NCwwvHnndV0"
      },
      "outputs": [],
      "source": [
        "import matplotlib.pyplot as plt\n",
        "import tensorflow as tf\n",
        "import numpy as np\n",
        "\n",
        "cifar=tf.keras.datasets.cifar10\n",
        "(training_data,training_labels),(testing_data,testing_labels)=cifar.load_data()\n",
        "classes=['airplane','automobile','bird','cat','deer','dog','frog','horse','ship','truck']"
      ]
    },
    {
      "cell_type": "code",
      "execution_count": null,
      "metadata": {
        "colab": {
          "base_uri": "https://localhost:8080/"
        },
        "id": "ybkV8EIIpyZ5",
        "outputId": "845bb794-1f93-44eb-ff68-7d7314a6c37f"
      },
      "outputs": [
        {
          "output_type": "execute_result",
          "data": {
            "text/plain": [
              "['airplane',\n",
              " 'automobile',\n",
              " 'bird',\n",
              " 'cat',\n",
              " 'deer',\n",
              " 'dog',\n",
              " 'frog',\n",
              " 'horse',\n",
              " 'ship',\n",
              " 'truck']"
            ]
          },
          "metadata": {},
          "execution_count": 2
        }
      ],
      "source": [
        "classes"
      ]
    },
    {
      "cell_type": "code",
      "execution_count": null,
      "metadata": {
        "colab": {
          "base_uri": "https://localhost:8080/"
        },
        "id": "rCUfihepqHHg",
        "outputId": "bd63b4db-f81d-4796-9e2c-23dc1a3ada3e"
      },
      "outputs": [
        {
          "output_type": "execute_result",
          "data": {
            "text/plain": [
              "(50000, 32, 32, 3)"
            ]
          },
          "metadata": {},
          "execution_count": 3
        }
      ],
      "source": [
        "training_data.shape"
      ]
    },
    {
      "cell_type": "code",
      "execution_count": null,
      "metadata": {
        "colab": {
          "base_uri": "https://localhost:8080/"
        },
        "id": "hO9tC8g7qZI7",
        "outputId": "bda8291f-33df-4683-a720-4a868ed699c1"
      },
      "outputs": [
        {
          "output_type": "execute_result",
          "data": {
            "text/plain": [
              "(50000, 1)"
            ]
          },
          "metadata": {},
          "execution_count": 4
        }
      ],
      "source": [
        "training_labels.shape"
      ]
    },
    {
      "cell_type": "code",
      "execution_count": null,
      "metadata": {
        "id": "a-NC_Ftmqjpz"
      },
      "outputs": [],
      "source": [
        "training_data=training_data/255.0\n",
        "testing_data=testing_data/255.0"
      ]
    },
    {
      "cell_type": "code",
      "execution_count": null,
      "metadata": {
        "id": "rd3SseEPq5KX"
      },
      "outputs": [],
      "source": [
        "model=tf.keras.Sequential([\n",
        "    tf.keras.layers.Conv2D(256,(3,3),activation=\"relu\",input_shape=(32,32,3)),\n",
        "    tf.keras.layers.MaxPool2D(2,2),\n",
        "    tf.keras.layers.Conv2D(128,(3,3),activation='relu'),\n",
        "    tf.keras.layers.MaxPool2D(2,2),\n",
        "    tf.keras.layers.Conv2D(64,(3,3),activation='relu'),\n",
        "    tf.keras.layers.MaxPool2D(2,2),\n",
        "    tf.keras.layers.Flatten(),\n",
        "    tf.keras.layers.Dense(32,activation='relu'),\n",
        "    tf.keras.layers.Dense(10,activation='softmax')\n",
        "    ])"
      ]
    },
    {
      "cell_type": "code",
      "execution_count": null,
      "metadata": {
        "id": "szujbelst5hR"
      },
      "outputs": [],
      "source": [
        "model.compile(optimizer='adam',loss='sparse_categorical_crossentropy',metrics=['accuracy'])"
      ]
    },
    {
      "cell_type": "code",
      "execution_count": null,
      "metadata": {
        "colab": {
          "base_uri": "https://localhost:8080/"
        },
        "id": "3gXvgX-mudvI",
        "outputId": "c8ebefaa-ae55-48cb-d951-cbec0b1bae93"
      },
      "outputs": [
        {
          "output_type": "stream",
          "name": "stdout",
          "text": [
            "Epoch 1/80\n",
            "1563/1563 [==============================] - 15s 7ms/step - loss: 1.6238 - accuracy: 0.4055\n",
            "Epoch 2/80\n",
            "1563/1563 [==============================] - 10s 6ms/step - loss: 1.2382 - accuracy: 0.5588\n",
            "Epoch 3/80\n",
            "1563/1563 [==============================] - 9s 6ms/step - loss: 1.0967 - accuracy: 0.6128\n",
            "Epoch 4/80\n",
            "1563/1563 [==============================] - 10s 6ms/step - loss: 1.0073 - accuracy: 0.6458\n",
            "Epoch 5/80\n",
            "1563/1563 [==============================] - 10s 6ms/step - loss: 0.9384 - accuracy: 0.6712\n",
            "Epoch 6/80\n",
            "1563/1563 [==============================] - 9s 6ms/step - loss: 0.8919 - accuracy: 0.6891\n",
            "Epoch 7/80\n",
            "1563/1563 [==============================] - 10s 6ms/step - loss: 0.8515 - accuracy: 0.7047\n",
            "Epoch 8/80\n",
            "1563/1563 [==============================] - 10s 7ms/step - loss: 0.8111 - accuracy: 0.7150\n",
            "Epoch 9/80\n",
            "1563/1563 [==============================] - 10s 6ms/step - loss: 0.7864 - accuracy: 0.7254\n",
            "Epoch 10/80\n",
            "1563/1563 [==============================] - 9s 6ms/step - loss: 0.7582 - accuracy: 0.7366\n",
            "Epoch 11/80\n",
            "1563/1563 [==============================] - 10s 6ms/step - loss: 0.7315 - accuracy: 0.7455\n",
            "Epoch 12/80\n",
            "1563/1563 [==============================] - 10s 6ms/step - loss: 0.7122 - accuracy: 0.7527\n",
            "Epoch 13/80\n",
            "1563/1563 [==============================] - 9s 6ms/step - loss: 0.6920 - accuracy: 0.7581\n",
            "Epoch 14/80\n",
            "1563/1563 [==============================] - 10s 6ms/step - loss: 0.6740 - accuracy: 0.7660\n",
            "Epoch 15/80\n",
            "1563/1563 [==============================] - 10s 6ms/step - loss: 0.6543 - accuracy: 0.7709\n",
            "Epoch 16/80\n",
            "1563/1563 [==============================] - 10s 6ms/step - loss: 0.6354 - accuracy: 0.7789\n",
            "Epoch 17/80\n",
            "1563/1563 [==============================] - 9s 6ms/step - loss: 0.6213 - accuracy: 0.7813\n",
            "Epoch 18/80\n",
            "1563/1563 [==============================] - 11s 7ms/step - loss: 0.6036 - accuracy: 0.7873\n",
            "Epoch 19/80\n",
            "1563/1563 [==============================] - 10s 7ms/step - loss: 0.5866 - accuracy: 0.7934\n",
            "Epoch 20/80\n",
            "1563/1563 [==============================] - 10s 6ms/step - loss: 0.5746 - accuracy: 0.7979\n",
            "Epoch 21/80\n",
            "1563/1563 [==============================] - 10s 6ms/step - loss: 0.5579 - accuracy: 0.8026\n",
            "Epoch 22/80\n",
            "1563/1563 [==============================] - 10s 6ms/step - loss: 0.5477 - accuracy: 0.8077\n",
            "Epoch 23/80\n",
            "1563/1563 [==============================] - 10s 6ms/step - loss: 0.5312 - accuracy: 0.8124\n",
            "Epoch 24/80\n",
            "1563/1563 [==============================] - 9s 6ms/step - loss: 0.5227 - accuracy: 0.8170\n",
            "Epoch 25/80\n",
            "1563/1563 [==============================] - 10s 6ms/step - loss: 0.5100 - accuracy: 0.8200\n",
            "Epoch 26/80\n",
            "1563/1563 [==============================] - 10s 6ms/step - loss: 0.4916 - accuracy: 0.8268\n",
            "Epoch 27/80\n",
            "1563/1563 [==============================] - 10s 6ms/step - loss: 0.4853 - accuracy: 0.8278\n",
            "Epoch 28/80\n",
            "1563/1563 [==============================] - 9s 6ms/step - loss: 0.4766 - accuracy: 0.8299\n",
            "Epoch 29/80\n",
            "1563/1563 [==============================] - 10s 6ms/step - loss: 0.4620 - accuracy: 0.8359\n",
            "Epoch 30/80\n",
            "1563/1563 [==============================] - 10s 6ms/step - loss: 0.4564 - accuracy: 0.8376\n",
            "Epoch 31/80\n",
            "1563/1563 [==============================] - 10s 6ms/step - loss: 0.4351 - accuracy: 0.8450\n",
            "Epoch 32/80\n",
            "1563/1563 [==============================] - 10s 6ms/step - loss: 0.4333 - accuracy: 0.8453\n",
            "Epoch 33/80\n",
            "1563/1563 [==============================] - 10s 6ms/step - loss: 0.4206 - accuracy: 0.8493\n",
            "Epoch 34/80\n",
            "1563/1563 [==============================] - 10s 6ms/step - loss: 0.4067 - accuracy: 0.8551\n",
            "Epoch 35/80\n",
            "1563/1563 [==============================] - 9s 6ms/step - loss: 0.4050 - accuracy: 0.8555\n",
            "Epoch 36/80\n",
            "1563/1563 [==============================] - 10s 6ms/step - loss: 0.3917 - accuracy: 0.8602\n",
            "Epoch 37/80\n",
            "1563/1563 [==============================] - 10s 6ms/step - loss: 0.3830 - accuracy: 0.8647\n",
            "Epoch 38/80\n",
            "1563/1563 [==============================] - 10s 6ms/step - loss: 0.3770 - accuracy: 0.8639\n",
            "Epoch 39/80\n",
            "1563/1563 [==============================] - 10s 6ms/step - loss: 0.3729 - accuracy: 0.8664\n",
            "Epoch 40/80\n",
            "1563/1563 [==============================] - 10s 6ms/step - loss: 0.3567 - accuracy: 0.8726\n",
            "Epoch 41/80\n",
            "1563/1563 [==============================] - 11s 7ms/step - loss: 0.3551 - accuracy: 0.8728\n",
            "Epoch 42/80\n",
            "1563/1563 [==============================] - 9s 6ms/step - loss: 0.3424 - accuracy: 0.8767\n",
            "Epoch 43/80\n",
            "1563/1563 [==============================] - 10s 6ms/step - loss: 0.3378 - accuracy: 0.8773\n",
            "Epoch 44/80\n",
            "1563/1563 [==============================] - 10s 6ms/step - loss: 0.3287 - accuracy: 0.8821\n",
            "Epoch 45/80\n",
            "1563/1563 [==============================] - 10s 6ms/step - loss: 0.3229 - accuracy: 0.8832\n",
            "Epoch 46/80\n",
            "1563/1563 [==============================] - 9s 6ms/step - loss: 0.3212 - accuracy: 0.8833\n",
            "Epoch 47/80\n",
            "1563/1563 [==============================] - 10s 6ms/step - loss: 0.3069 - accuracy: 0.8887\n",
            "Epoch 48/80\n",
            "1563/1563 [==============================] - 10s 6ms/step - loss: 0.3025 - accuracy: 0.8915\n",
            "Epoch 49/80\n",
            "1563/1563 [==============================] - 9s 6ms/step - loss: 0.2967 - accuracy: 0.8927\n",
            "Epoch 50/80\n",
            "1563/1563 [==============================] - 10s 6ms/step - loss: 0.2942 - accuracy: 0.8939\n",
            "Epoch 51/80\n",
            "1563/1563 [==============================] - 10s 6ms/step - loss: 0.2862 - accuracy: 0.8969\n",
            "Epoch 52/80\n",
            "1563/1563 [==============================] - 10s 6ms/step - loss: 0.2856 - accuracy: 0.8983\n",
            "Epoch 53/80\n",
            "1563/1563 [==============================] - 9s 6ms/step - loss: 0.2700 - accuracy: 0.9039\n",
            "Epoch 54/80\n",
            "1563/1563 [==============================] - 10s 6ms/step - loss: 0.2720 - accuracy: 0.9016\n",
            "Epoch 55/80\n",
            "1563/1563 [==============================] - 10s 6ms/step - loss: 0.2648 - accuracy: 0.9047\n",
            "Epoch 56/80\n",
            "1563/1563 [==============================] - 10s 6ms/step - loss: 0.2588 - accuracy: 0.9071\n",
            "Epoch 57/80\n",
            "1563/1563 [==============================] - 10s 6ms/step - loss: 0.2608 - accuracy: 0.9054\n",
            "Epoch 58/80\n",
            "1563/1563 [==============================] - 10s 6ms/step - loss: 0.2465 - accuracy: 0.9110\n",
            "Epoch 59/80\n",
            "1563/1563 [==============================] - 10s 7ms/step - loss: 0.2516 - accuracy: 0.9099\n",
            "Epoch 60/80\n",
            "1563/1563 [==============================] - 9s 6ms/step - loss: 0.2411 - accuracy: 0.9129\n",
            "Epoch 61/80\n",
            "1563/1563 [==============================] - 10s 7ms/step - loss: 0.2462 - accuracy: 0.9114\n",
            "Epoch 62/80\n",
            "1563/1563 [==============================] - 10s 6ms/step - loss: 0.2394 - accuracy: 0.9139\n",
            "Epoch 63/80\n",
            "1563/1563 [==============================] - 11s 7ms/step - loss: 0.2273 - accuracy: 0.9174\n",
            "Epoch 64/80\n",
            "1563/1563 [==============================] - 9s 6ms/step - loss: 0.2292 - accuracy: 0.9171\n",
            "Epoch 65/80\n",
            "1563/1563 [==============================] - 10s 6ms/step - loss: 0.2243 - accuracy: 0.9198\n",
            "Epoch 66/80\n",
            "1563/1563 [==============================] - 10s 6ms/step - loss: 0.2161 - accuracy: 0.9212\n",
            "Epoch 67/80\n",
            "1563/1563 [==============================] - 10s 6ms/step - loss: 0.2176 - accuracy: 0.9226\n",
            "Epoch 68/80\n",
            "1563/1563 [==============================] - 10s 6ms/step - loss: 0.2159 - accuracy: 0.9220\n",
            "Epoch 69/80\n",
            "1563/1563 [==============================] - 10s 6ms/step - loss: 0.2161 - accuracy: 0.9221\n",
            "Epoch 70/80\n",
            "1563/1563 [==============================] - 10s 6ms/step - loss: 0.2160 - accuracy: 0.9226\n",
            "Epoch 71/80\n",
            "1563/1563 [==============================] - 9s 6ms/step - loss: 0.1980 - accuracy: 0.9289\n",
            "Epoch 72/80\n",
            "1563/1563 [==============================] - 10s 6ms/step - loss: 0.2016 - accuracy: 0.9269\n",
            "Epoch 73/80\n",
            "1563/1563 [==============================] - 10s 6ms/step - loss: 0.1998 - accuracy: 0.9270\n",
            "Epoch 74/80\n",
            "1563/1563 [==============================] - 10s 6ms/step - loss: 0.1954 - accuracy: 0.9302\n",
            "Epoch 75/80\n",
            "1563/1563 [==============================] - 10s 6ms/step - loss: 0.1944 - accuracy: 0.9306\n",
            "Epoch 76/80\n",
            "1563/1563 [==============================] - 10s 6ms/step - loss: 0.1883 - accuracy: 0.9315\n",
            "Epoch 77/80\n",
            "1563/1563 [==============================] - 10s 6ms/step - loss: 0.1955 - accuracy: 0.9307\n",
            "Epoch 78/80\n",
            "1563/1563 [==============================] - 9s 6ms/step - loss: 0.1797 - accuracy: 0.9354\n",
            "Epoch 79/80\n",
            "1563/1563 [==============================] - 10s 6ms/step - loss: 0.1887 - accuracy: 0.9320\n",
            "Epoch 80/80\n",
            "1563/1563 [==============================] - 10s 6ms/step - loss: 0.1730 - accuracy: 0.9387\n"
          ]
        },
        {
          "output_type": "execute_result",
          "data": {
            "text/plain": [
              "<keras.src.callbacks.History at 0x798c08c8cfd0>"
            ]
          },
          "metadata": {},
          "execution_count": 8
        }
      ],
      "source": [
        "model.fit(training_data,training_labels,epochs=80)"
      ]
    },
    {
      "cell_type": "code",
      "execution_count": null,
      "metadata": {
        "id": "zn_pBD5QviZZ"
      },
      "outputs": [],
      "source": [
        "test_loss,test_accuracy=model.evaluate(testing_data,testing_labels)"
      ]
    },
    {
      "cell_type": "code",
      "execution_count": null,
      "metadata": {
        "id": "DXdcnHG7yZ9s",
        "colab": {
          "base_uri": "https://localhost:8080/",
          "height": 447
        },
        "outputId": "82078830-71d4-493c-bc1f-693e280370af"
      },
      "outputs": [
        {
          "output_type": "execute_result",
          "data": {
            "text/plain": [
              "<matplotlib.image.AxesImage at 0x798ba7511c00>"
            ]
          },
          "metadata": {},
          "execution_count": 10
        },
        {
          "output_type": "display_data",
          "data": {
            "text/plain": [
              "<Figure size 640x480 with 1 Axes>"
            ],
            "image/png": "[encoded data removed]"
          },
          "metadata": {}
        }
      ],
      "source": [
        "plt.imshow(training_data[100])"
      ]
    },
    {
      "cell_type": "code",
      "execution_count": null,
      "metadata": {
        "id": "aCaYRxCNzBJY"
      },
      "outputs": [],
      "source": [
        "(training_data_example,training_labels_example),(testing_data_example,testing_labels_example)=cifar.load_data()"
      ]
    },
    {
      "cell_type": "code",
      "execution_count": null,
      "metadata": {
        "id": "MDYoTEoZzXLt",
        "colab": {
          "base_uri": "https://localhost:8080/",
          "height": 447
        },
        "outputId": "81e7c82d-2e83-42c4-96c6-1d9a5c8f8a21"
      },
      "outputs": [
        {
          "output_type": "execute_result",
          "data": {
            "text/plain": [
              "<matplotlib.image.AxesImage at 0x798ba41c8820>"
            ]
          },
          "metadata": {},
          "execution_count": 12
        },
        {
          "output_type": "display_data",
          "data": {
            "text/plain": [
              "<Figure size 640x480 with 1 Axes>"
            ],
            "image/png": "[encoded data removed]"
          },
          "metadata": {}
        }
      ],
      "source": [
        "plt.imshow(training_data_example[100])"
      ]
    },
    {
      "cell_type": "code",
      "execution_count": null,
      "metadata": {
        "id": "dhFt07nFzb90",
        "colab": {
          "base_uri": "https://localhost:8080/"
        },
        "outputId": "8337cbf0-837c-4497-b54a-c99149c13bbe"
      },
      "outputs": [
        {
          "output_type": "stream",
          "name": "stdout",
          "text": [
            "313/313 [==============================] - 1s 2ms/step\n"
          ]
        }
      ],
      "source": [
        "predictions=model.predict(testing_data)"
      ]
    },
    {
      "cell_type": "code",
      "execution_count": null,
      "metadata": {
        "id": "ABHFV_G8zzgi",
        "colab": {
          "base_uri": "https://localhost:8080/"
        },
        "outputId": "d1cbfa9f-b0ba-4da8-d8b8-2cd287838e8f"
      },
      "outputs": [
        {
          "output_type": "execute_result",
          "data": {
            "text/plain": [
              "array([[8.02356750e-03, 9.61451097e-09, 6.91386813e-05, ...,\n",
              "        2.02467851e-03, 3.11824819e-03, 3.23927942e-08],\n",
              "       [2.27159435e-05, 1.43542841e-01, 1.92691295e-32, ...,\n",
              "        4.14156309e-28, 8.56434405e-01, 3.66035632e-14],\n",
              "       [1.02896774e-04, 5.89003378e-07, 2.40661375e-08, ...,\n",
              "        2.85785240e-09, 9.99896407e-01, 1.45787924e-08],\n",
              "       ...,\n",
              "       [1.02105996e-18, 1.21233121e-17, 4.17307326e-08, ...,\n",
              "        2.12009439e-07, 1.49293745e-13, 4.95332231e-23],\n",
              "       [1.62195573e-08, 9.99999881e-01, 1.03816988e-09, ...,\n",
              "        4.22307935e-12, 2.47060212e-13, 3.53677569e-12],\n",
              "       [2.03322171e-22, 1.55302584e-21, 3.97501170e-15, ...,\n",
              "        9.99999881e-01, 3.67604370e-24, 3.51958690e-28]], dtype=float32)"
            ]
          },
          "metadata": {},
          "execution_count": 14
        }
      ],
      "source": [
        "predictions"
      ]
    },
    {
      "cell_type": "code",
      "execution_count": null,
      "metadata": {
        "id": "49IctvfSz6LV",
        "colab": {
          "base_uri": "https://localhost:8080/"
        },
        "outputId": "c18acf59-b6a4-4eb7-bee4-e741580fc681"
      },
      "outputs": [
        {
          "output_type": "execute_result",
          "data": {
            "text/plain": [
              "array([2.8102937e-10, 3.4537184e-08, 5.2236754e-04, 2.6323317e-02,\n",
              "       1.7770153e-04, 9.7291476e-01, 3.2601222e-06, 5.8552596e-05,\n",
              "       2.4249558e-09, 9.0171398e-10], dtype=float32)"
            ]
          },
          "metadata": {},
          "execution_count": 15
        }
      ],
      "source": [
        "predictions[31]"
      ]
    },
    {
      "cell_type": "code",
      "execution_count": null,
      "metadata": {
        "id": "jM_XqVrI0Pa9",
        "colab": {
          "base_uri": "https://localhost:8080/"
        },
        "outputId": "ff477dcf-8535-4246-877e-ee3437f48e11"
      },
      "outputs": [
        {
          "output_type": "execute_result",
          "data": {
            "text/plain": [
              "5"
            ]
          },
          "metadata": {},
          "execution_count": 16
        }
      ],
      "source": [
        "np.argmax(predictions[31])"
      ]
    },
    {
      "cell_type": "code",
      "execution_count": null,
      "metadata": {
        "id": "hm9pFO8b0UTz",
        "colab": {
          "base_uri": "https://localhost:8080/",
          "height": 35
        },
        "outputId": "0d449215-ce01-491d-f9f0-c39cdd78b0f8"
      },
      "outputs": [
        {
          "output_type": "execute_result",
          "data": {
            "text/plain": [
              "'dog'"
            ],
            "application/vnd.google.colaboratory.intrinsic+json": {
              "type": "string"
            }
          },
          "metadata": {},
          "execution_count": 17
        }
      ],
      "source": [
        "classes[np.argmax(predictions[31])]"
      ]
    },
    {
      "cell_type": "code",
      "execution_count": null,
      "metadata": {
        "id": "1jVa-Kjb172w",
        "colab": {
          "base_uri": "https://localhost:8080/"
        },
        "outputId": "a21a9a4d-460e-42dc-9f9f-f01dc862d8d7"
      },
      "outputs": [
        {
          "output_type": "stream",
          "name": "stderr",
          "text": [
            "/usr/local/lib/python3.10/dist-packages/keras/src/engine/training.py:3103: UserWarning: You are saving your model as an HDF5 file via `model.save()`. This file format is considered legacy. We recommend using instead the native Keras format, e.g. `model.save('my_model.keras')`.\n",
            "  saving_api.save_model(\n"
          ]
        }
      ],
      "source": [
        "model.save('CNN_cifar10.h5')"
      ]
    },
    {
      "cell_type": "code",
      "source": [],
      "metadata": {
        "id": "fVpGuxe_QgSJ"
      },
      "execution_count": null,
      "outputs": []
    }
  ],
  "metadata": {
    "colab": {
      "provenance": []
    },
    "kernelspec": {
      "display_name": "Python 3",
      "name": "python3"
    },
    "language_info": {
      "name": "python"
    }
  },
  "nbformat": 4,
  "nbformat_minor": 0
}